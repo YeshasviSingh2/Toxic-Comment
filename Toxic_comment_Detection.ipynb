{
  "nbformat": 4,
  "nbformat_minor": 0,
  "metadata": {
    "colab": {
      "provenance": [],
      "authorship_tag": "ABX9TyN+p1fyRXukfcXbELXH6ad1",
      "include_colab_link": true
    },
    "kernelspec": {
      "name": "python3",
      "display_name": "Python 3"
    },
    "language_info": {
      "name": "python"
    }
  },
  "cells": [
    {
      "cell_type": "markdown",
      "metadata": {
        "id": "view-in-github",
        "colab_type": "text"
      },
      "source": [
        "<a href=\"https://colab.research.google.com/github/YeshasviSingh2/Toxic-Comment/blob/main/Toxic_comment_Detection.ipynb\" target=\"_parent\"><img src=\"https://colab.research.google.com/assets/colab-badge.svg\" alt=\"Open In Colab\"/></a>"
      ]
    },
    {
      "cell_type": "code",
      "execution_count": null,
      "metadata": {
        "id": "3iqv8y1tyOP3"
      },
      "outputs": [],
      "source": [
        "!pip install transformers datasets nltk spacy textblob scikit-learn xgboost\n",
        "import nltk\n",
        "nltk.download('stopwords')\n",
        "nltk.download('wordnet')\n"
      ]
    },
    {
      "cell_type": "code",
      "source": [
        "import pandas as pd\n",
        "df = pd.read_csv(\"/content/sample_comments.csv\")\n",
        "print(df.head())\n",
        "print(df.shape)\n",
        "print(df.tail())\n"
      ],
      "metadata": {
        "colab": {
          "base_uri": "https://localhost:8080/"
        },
        "id": "ZP7VPc3-1SZh",
        "outputId": "8b95c58d-de1c-4701-8310-b205c31630e7"
      },
      "execution_count": 4,
      "outputs": [
        {
          "output_type": "stream",
          "name": "stdout",
          "text": [
            "                                 comment category\n",
            "0           Bhai kya bakwas kar raha hai    toxic\n",
            "1                        Chup be chutiye    toxic\n",
            "2                     Tumse na ho payega    toxic\n",
            "3                      Kitna noob hai tu    toxic\n",
            "4  Tere jaise log game kharab karte hain    toxic\n",
            "(31, 2)\n",
            "                   comment   category\n",
            "26          You nailed it!  non-toxic\n",
            "27    That was awesome bro  non-toxic\n",
            "28    Amazing killstreak 👑  non-toxic\n",
            "29  Respect from Kolkata 🤝  non-toxic\n",
            "30   Keep up the good work  non-toxic\n"
          ]
        }
      ]
    },
    {
      "cell_type": "code",
      "source": [
        "!pip install scikit-learn pandas matplotlib seaborn\n"
      ],
      "metadata": {
        "id": "G__T2GXp3s5t"
      },
      "execution_count": null,
      "outputs": []
    },
    {
      "cell_type": "code",
      "source": [
        "import pandas as pd\n",
        "\n",
        "df = pd.read_csv('/content/sample_comments.csv')\n",
        "print(\"Unique labels:\", df['category'].unique())\n"
      ],
      "metadata": {
        "colab": {
          "base_uri": "https://localhost:8080/"
        },
        "id": "GB_BpalL303Q",
        "outputId": "2e992f71-0d7f-41d5-8db1-38cc90aba9f9"
      },
      "execution_count": 6,
      "outputs": [
        {
          "output_type": "stream",
          "name": "stdout",
          "text": [
            "Unique labels: ['toxic' 'obscene' 'insult' 'identity_hate' 'threat' 'severe_toxic'\n",
            " 'non-toxic']\n"
          ]
        }
      ]
    },
    {
      "cell_type": "code",
      "source": [],
      "metadata": {
        "id": "Udaima5q4MuF"
      },
      "execution_count": null,
      "outputs": []
    }
  ]
}